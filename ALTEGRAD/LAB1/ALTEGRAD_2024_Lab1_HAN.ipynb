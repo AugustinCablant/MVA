{
  "cells": [
    {
      "cell_type": "markdown",
      "metadata": {
        "id": "MuVouapRmjEW"
      },
      "source": [
        "<center><h2>ALTeGraD 2024<br>Lab Session 1: HAN</h2><h3>Hierarchical Attention Network Using GRU</h3> 8 / 10 / 2024<br> Dr. Guokan Shang, Yang Zhang<br><br>\n",
        "\n",
        "\n",
        "<b>Student name:</b> [fill me]\n",
        "\n",
        "\n",
        "</center>\n",
        "In this lab, you will get familiar with recurrent neural networks (RNNs), self-attention, and the HAN architecture <b>(Yang et al. 2016)</b> using PyTorch. In this architecture, sentence embeddings are first individually produced, and a document embedding is then computed from the sentence embeddings.<br>\n",
        "<b>The deadline for this lab is October 15, 2024 11:59 PM.</b> More details about the submission and the architecture for this lab can be found in the handout PDF.\n"
      ]
    },
    {
      "cell_type": "markdown",
      "metadata": {
        "id": "xJaSJaIP1xRy"
      },
      "source": [
        "### = = = = =  Attention Layer = = = = =\n",
        "In thi section, you will fill the gaps in the code to implement the self-attention layer. This layer will be used later to define the HAN architecture. The basic idea behind attention is that rather than considering the last annotation $h_T$ as a summary of the entire sequence, which is prone to information loss, the annotations at <i>all</i> time steps are used.\n",
        "The self-attention mechanism computes a weighted sum of the annotations, where the weights are determined by trainable parameters. Refer to <b>section 2.2</b> in the handout for the theoretical part, it will be needed to finish the first task.\n",
        "\n",
        "#### <b>Task 1:</b>"
      ]
    },
    {
      "cell_type": "code",
      "execution_count": 75,
      "metadata": {},
      "outputs": [],
      "source": [
        "# Imports\n",
        "import matplotlib.pyplot as plt\n",
        "import torch\n",
        "from torch import nn\n",
        "from torch.utils.data import DataLoader\n",
        "import sys\n",
        "import json\n",
        "import operator\n",
        "import numpy as np\n",
        "import urllib.request\n",
        "from tqdm import tqdm"
      ]
    },
    {
      "cell_type": "code",
      "execution_count": 2,
      "metadata": {},
      "outputs": [
        {
          "name": "stdout",
          "output_type": "stream",
          "text": [
            "Using mps device\n"
          ]
        }
      ],
      "source": [
        "# Get cpu, gpu or mps (I have a MAC) device for training.\n",
        "device = (\n",
        "    \"cuda\"\n",
        "    if torch.cuda.is_available()\n",
        "    else \"mps\"\n",
        "    if torch.backends.mps.is_available()\n",
        "    else \"cpu\"\n",
        ")\n",
        "\n",
        "print(f\"Using {device} device\")"
      ]
    },
    {
      "cell_type": "code",
      "execution_count": 3,
      "metadata": {
        "id": "yoM7H0KQncpF"
      },
      "outputs": [],
      "source": [
        "class AttentionWithContext(nn.Module):\n",
        "    \"\"\"\n",
        "    Follows the work of Yang et al. [https://www.cs.cmu.edu/~diyiy/docs/naacl16.pdf]\n",
        "    \"Hierarchical Attention Networks for Document Classification\"\n",
        "    by using a context vector to assist the attention\n",
        "    \n",
        "    # Input shape\n",
        "    Args:\n",
        "        3D tensor with shape: `(samples, steps, features)`\n",
        "    # Output shape\n",
        "    Return:\n",
        "        2D tensor with shape: `(samples, features)`\n",
        "    \"\"\"\n",
        "    \n",
        "    def __init__(self, input_shape, return_coefficients=False, bias=True):\n",
        "        super(AttentionWithContext, self).__init__()\n",
        "        self.return_coefficients = return_coefficients\n",
        "\n",
        "        self.W = nn.Linear(input_shape, input_shape, bias=bias)\n",
        "        self.tanh = nn.Tanh()\n",
        "        self.u = nn.Linear(input_shape, 1, bias=False)\n",
        "\n",
        "        self.init_weights()\n",
        "\n",
        "    def init_weights(self):\n",
        "        initrange = 0.1\n",
        "        self.W.weight.data.uniform_(-initrange, initrange)\n",
        "        self.W.bias.data.uniform_(-initrange, initrange)\n",
        "        self.u.weight.data.uniform_(-initrange, initrange)\n",
        "    \n",
        "    def generate_square_subsequent_mask(self, sz):\n",
        "        # do not pass the mask to the next layers\n",
        "        mask = (torch.triu(torch.ones(sz, sz)) == 1).transpose(0, 1)\n",
        "        mask = (\n",
        "            mask.float()\n",
        "            .masked_fill(mask == 0, float(\"-inf\"))\n",
        "            .masked_fill(mask == 1, float(0.0))\n",
        "        )\n",
        "        return mask\n",
        "    \n",
        "    def forward(self, x, mask=None):\n",
        "        uit = self.W(x) # fill the gap # compute uit = W . x  where x represents ht\n",
        "        uit = self.tanh(uit)\n",
        "        ait = self.u(uit)\n",
        "        a = torch.exp(ait)\n",
        "        \n",
        "        # apply mask after the exp. will be re-normalized next\n",
        "        if mask is not None:\n",
        "            a = a*mask.double()\n",
        "        \n",
        "        # in some cases especially in the early stages of training the sum may be almost zero\n",
        "        # and this results in NaN's. A workaround is to add a very small positive number ε to the sum.\n",
        "        eps = 1e-9\n",
        "        a = a / (torch.sum(a, axis=1, keepdim=True) + eps)\n",
        "        weighted_input = torch.sum(a * x, axis=1, keepdim=True)    ### fill the gap ### # compute the attentional vector\n",
        "        if self.return_coefficients:\n",
        "            return  weighted_input, a    ### [attentional vector, coefficients] ### use torch.sum to compute s\n",
        "        else:\n",
        "            return weighted_input    ### attentional vector only ###"
      ]
    },
    {
      "cell_type": "markdown",
      "metadata": {
        "id": "DgTP6GrOHlss"
      },
      "source": [
        "### = = = = = Parameters = = = = =\n",
        "In this section, we define the parameters to use in our training. Such as data path, the embedding dimention <b>d</b>, the GRU layer dimensionality <b>n_units</b>, etc..<br>\n",
        "The parameter <b>device</b> is used to train the model on GPU if it is available. for this purpose, if you are using Google Colab, switch your runtime to a GPU runtime to train the model with a maximum speed.<br>\n",
        "<b>Bonus question:</b> What is the purpose of the parameter <i>my_patience</i>?"
      ]
    },
    {
      "cell_type": "code",
      "execution_count": 4,
      "metadata": {
        "id": "czsVjxgYnczb"
      },
      "outputs": [],
      "source": [
        "path_root = ''\n",
        "path_to_data = path_root + 'data/'\n",
        "\n",
        "d = 30 # dimensionality of word embeddings\n",
        "n_units = 50 # RNN layer dimensionality\n",
        "drop_rate = 0.5 # dropout\n",
        "mfw_idx = 2 # index of the most frequent words in the dictionary \n",
        "            # 0 is for the special padding token\n",
        "            # 1 is for the special out-of-vocabulary token\n",
        "\n",
        "padding_idx = 0\n",
        "oov_idx = 1\n",
        "batch_size = 64\n",
        "nb_epochs = 15\n",
        "my_patience = 2 # for early stopping strategy"
      ]
    },
    {
      "cell_type": "markdown",
      "metadata": {
        "id": "K8Vot_C7Hlst"
      },
      "source": [
        "### = = = = = Data Loading = = = = =\n",
        "In this section we will use first <b>wget</b> to download the data the we will load it using numpy in the first cell. While in the second cell, we will use these data to define our Pytorch data loader. Note that the data is already preprocessed, tokenized and padded.<br><br>\n",
        "<b>Note: if you are running your notebook on Windows or on MacOS, <i>wget</i> will probably not work if you did not install it manually. In this case, use the provided link to download the data and change the <i>path_to_data</i> in the <i>Parameters</i> section accordingly. Otherwise, you will face no problem on Ubuntu and Google Colab.</b>\n",
        "\n",
        "#### <b>Task 2.1:</b>"
      ]
    },
    {
      "cell_type": "code",
      "execution_count": 6,
      "metadata": {
        "id": "UD6hRh0OHlst"
      },
      "outputs": [
        {
          "name": "stdout",
          "output_type": "stream",
          "text": [
            "Archive:  data.zip\n",
            "replace __MACOSX/._data? [y]es, [n]o, [A]ll, [N]one, [r]ename: ^C\n"
          ]
        }
      ],
      "source": [
        "url = \"https://onedrive.live.com/download?cid=AE69638675180117&resid=AE69638675180117%2199289&authkey=AHgxt3xmgG0Fu5A\"\n",
        "output_file = \"data.zip\"\n",
        "urllib.request.urlretrieve(url, output_file)\n",
        "\n",
        "!unzip data.zip\n",
        "\n",
        "my_docs_array_train = np.load(path_to_data + 'docs_train.npy')\n",
        "my_docs_array_test = np.load(path_to_data + 'docs_test.npy')\n",
        "\n",
        "my_labels_array_train = np.load(path_to_data + 'labels_train.npy')\n",
        "my_labels_array_test = np.load(path_to_data + 'labels_test.npy')\n",
        "\n",
        "# load dictionary of word indexes (sorted by decreasing frequency across the corpus)\n",
        "with open(path_to_data + 'word_to_index.json', 'r') as my_file:\n",
        "    word_to_index = json.load(my_file)\n",
        "\n",
        "# invert mapping\n",
        "index_to_word =   {index : word for word, index in word_to_index.items()}    ### fill the gap (use a dict comprehension) ###\n",
        "input_size = my_docs_array_train.shape"
      ]
    },
    {
      "cell_type": "code",
      "execution_count": 8,
      "metadata": {
        "id": "DpsCvmaiJfZc"
      },
      "outputs": [],
      "source": [
        "import numpy\n",
        "import torch\n",
        "from torch.utils.data import DataLoader, Dataset\n",
        "\n",
        "\n",
        "class Dataset_(Dataset):\n",
        "    def __init__(self, x, y):\n",
        "        self.documents = x\n",
        "        self.labels = y\n",
        "\n",
        "    def __len__(self):\n",
        "        return len(self.documents)\n",
        "\n",
        "    def __getitem__(self, index):\n",
        "        document = self.documents[index]\n",
        "        label = self.labels[index] \n",
        "        sample = {\n",
        "            \"document\": torch.tensor(document),\n",
        "            \"label\": torch.tensor(label),\n",
        "            }\n",
        "        return sample\n",
        "\n",
        "\n",
        "def get_loader(x, y, batch_size=32):\n",
        "    dataset = Dataset_(x, y)\n",
        "    data_loader = DataLoader(dataset=dataset,\n",
        "                            batch_size=batch_size,\n",
        "                            shuffle=True,\n",
        "                            pin_memory=True,\n",
        "                            drop_last=True,\n",
        "                            )\n",
        "    return data_loader"
      ]
    },
    {
      "cell_type": "markdown",
      "metadata": {
        "id": "6rzqEGOdHlst"
      },
      "source": [
        "### = = = = = Defining Architecture = = = = =\n",
        "In this section, we define the HAN architecture. We start with <i>AttentionBiGRU</i> module in order to define the sentence encoder (check Figure 3 in the handout). Then, we define the <i>TimeDistributed</i> module to allow us to forward our input (batch of document) as to the sentence encoder as <b>batch of sentences</b>, where each sentence in the document will be considered as a time step. This module also reshape the output to a batch of timesteps representations per document. Finally we define the <b>HAN</b> architecture using <i>TimeDistributed</i>, <i>AttentionWithContext</i> and <i>GRU</i>.\n",
        "\n",
        "#### <b>Task 2.2:</b>"
      ]
    },
    {
      "cell_type": "code",
      "execution_count": 9,
      "metadata": {
        "id": "AMj9j1_pHlst"
      },
      "outputs": [],
      "source": [
        "\n",
        "class AttentionBiGRU(nn.Module):\n",
        "    def __init__(self, input_shape, n_units, index_to_word, dropout=0):\n",
        "        super(AttentionBiGRU, self).__init__()    #RNN bidirectionnel (GRU)\n",
        "        self.embedding = nn.Embedding(len(index_to_word),    # fill the gap # vocab size\n",
        "                                      d, # dimensionality of embedding space\n",
        "                                      padding_idx=0)\n",
        "        self.dropout = nn.Dropout(drop_rate)\n",
        "        self.gru = nn.GRU(input_size=d,\n",
        "                          hidden_size=n_units,\n",
        "                          num_layers=1,\n",
        "                          bias=True,\n",
        "                          batch_first=True,\n",
        "                          bidirectional=True)\n",
        "        self.attention = AttentionWithContext(n_units * 2,   # fill the gap # the input shape for the attention layer # 2 * n_units because of bidirectional GRU\n",
        "                                              return_coefficients=True)\n",
        "\n",
        "\n",
        "    def forward(self, sent_ints):\n",
        "        sent_wv = self.embedding(sent_ints)\n",
        "        sent_wv_dr = self.dropout(sent_wv)\n",
        "        sent_wa, _ = self.gru(sent_wv_dr) # fill the gap # RNN layer\n",
        "        sent_att_vec, word_att_coeffs =  self.attention(sent_wa)    # fill the gap # attentional vector for the sent\n",
        "        sent_att_vec_dr = self.dropout(sent_att_vec)     \n",
        "        return sent_att_vec_dr, word_att_coeffs\n",
        "\n",
        "class TimeDistributed(nn.Module):\n",
        "    \"\"\" \n",
        "    Apply AttentionBiGRU on each sentence in the document \"\"\"\n",
        "    def __init__(self, module, batch_first=False):\n",
        "        super(TimeDistributed, self).__init__()\n",
        "        self.module = module\n",
        "        self.batch_first = batch_first\n",
        "\n",
        "    def forward(self, x):\n",
        "        if len(x.size()) <= 2:\n",
        "            return self.module(x)\n",
        "        # Squash samples and timesteps into a single axis\n",
        "        x_reshape = x.contiguous().view(-1, x.size(-1))  # (samples * timesteps, input_size) (448, 30)\n",
        "        sent_att_vec_dr, word_att_coeffs = self.module(x_reshape)\n",
        "        # We have to reshape the output\n",
        "        if self.batch_first:\n",
        "            sent_att_vec_dr = sent_att_vec_dr.contiguous().view(x.size(0), -1, sent_att_vec_dr.size(-1))  # (samples, timesteps, output_size)\n",
        "            word_att_coeffs = word_att_coeffs.contiguous().view(x.size(0), -1, word_att_coeffs.size(-1))  # (samples, timesteps, output_size)\n",
        "        else:\n",
        "            sent_att_vec_dr = sent_att_vec_dr.view(-1, x.size(1), sent_att_vec_dr.size(-1))  # (timesteps, samples, output_size)\n",
        "            word_att_coeffs = word_att_coeffs.view(-1, x.size(1), word_att_coeffs.size(-1))  # (timesteps, samples, output_size)\n",
        "        return sent_att_vec_dr, word_att_coeffs      \n",
        "\n",
        "class HAN(nn.Module):\n",
        "    def __init__(self, input_shape, n_units, index_to_word, dropout=0):\n",
        "        super(HAN, self).__init__()\n",
        "        self.encoder = AttentionBiGRU(input_shape, n_units, index_to_word, dropout)\n",
        "        self.timeDistributed = TimeDistributed(self.encoder, True)\n",
        "        self.dropout = nn.Dropout(drop_rate)\n",
        "        self.gru = nn.GRU(input_size = n_units * 2,    # fill the gap # the input shape of GRU layer\n",
        "                          hidden_size=n_units,\n",
        "                          num_layers=1,\n",
        "                          bias=True,\n",
        "                          batch_first=True,\n",
        "                          bidirectional=True)\n",
        "        self.attention = AttentionWithContext(n_units * 2,     # fill the gap # the input shape of between-sentence attention layer\n",
        "                                              return_coefficients=True)\n",
        "        self.lin_out = nn.Linear(n_units * 2,   # fill the gap # the input size of the last linear layer\n",
        "                                 1)\n",
        "        self.preds = nn.Sigmoid()\n",
        "\n",
        "    def forward(self, doc_ints):\n",
        "        sent_att_vecs_dr, word_att_coeffs =  self.timeDistributed(doc_ints)    # fill the gap # get sentence representation\n",
        "        doc_sa, _ = self.gru(sent_att_vecs_dr)\n",
        "        doc_att_vec, sent_att_coeffs = self.attention(doc_sa)\n",
        "        doc_att_vec_dr = self.dropout(doc_att_vec)\n",
        "        doc_att_vec_dr = self.lin_out(doc_att_vec_dr)\n",
        "        return self.preds(doc_att_vec_dr), word_att_coeffs, sent_att_coeffs\n"
      ]
    },
    {
      "cell_type": "markdown",
      "metadata": {
        "id": "sgreR5AcHlst"
      },
      "source": [
        "### = = = = = Training = = = = =\n",
        "In this section, we have two code cells. In the first one, we define our evaluation function to compute the training and validation accuracies. While in the second one, we define our model, loss and optimizer and train the model over <i>nb_epochs</i>.<br>\n",
        "<b>Bonus task:</b> use <a href=\"https://pytorch.org/tutorials/recipes/recipes/tensorboard_with_pytorch.html\" target=\"_blank\">tensorboard</a> to visualize the loss and the validation accuray during the training.\n",
        "\n",
        "#### <b>Task 2.3:</b>"
      ]
    },
    {
      "cell_type": "code",
      "execution_count": 27,
      "metadata": {
        "id": "ztF2Lkie-C25"
      },
      "outputs": [],
      "source": [
        "def evaluate_accuracy(data_loader, verbose=True):\n",
        "    model.eval()\n",
        "    total_loss = 0.0\n",
        "    ncorrect = ntotal = 0\n",
        "    with torch.no_grad():\n",
        "        for idx, data in enumerate(data_loader):\n",
        "            # inference \n",
        "            output = model(data[\"document\"].to(device))[0] \n",
        "            output = output[:, -1] # only last vector\n",
        "            # total number of examples\n",
        "            ntotal +=  output.shape[0]\n",
        "            # number of correct predictions \n",
        "            predictions = torch.round(output)\n",
        "            ncorrect += torch.sum(predictions.to(device) == data[\"label\"].to(device))    #fill me # number of correct prediction - hint: use torch.sum \n",
        "        acc = ncorrect.item() / ntotal\n",
        "        if verbose:\n",
        "          print(\"validation accuracy: {:3.2f}\".format(acc*100))\n",
        "        return acc"
      ]
    },
    {
      "cell_type": "code",
      "execution_count": 28,
      "metadata": {
        "id": "RRYiKhZEEidb"
      },
      "outputs": [
        {
          "name": "stderr",
          "output_type": "stream",
          "text": [
            "Epoch 1: 100%|██████████| 390/390 [00:26<00:00, 14.57batch/s, accuracy=3.2e+3, loss=0] \n"
          ]
        },
        {
          "name": "stdout",
          "output_type": "stream",
          "text": [
            "===> Epoch 1 Complete: Avg. Loss: 0.0000, Validation Accuracy: 3200.26%\n",
            "Validation accuracy improved, saving model...\n",
            "\n"
          ]
        },
        {
          "name": "stderr",
          "output_type": "stream",
          "text": [
            "Epoch 2: 100%|██████████| 390/390 [00:26<00:00, 14.46batch/s, accuracy=3.2e+3, loss=0] \n"
          ]
        },
        {
          "name": "stdout",
          "output_type": "stream",
          "text": [
            "===> Epoch 2 Complete: Avg. Loss: 0.0000, Validation Accuracy: 3201.03%\n",
            "Validation accuracy improved, saving model...\n",
            "\n"
          ]
        },
        {
          "name": "stderr",
          "output_type": "stream",
          "text": [
            "Epoch 3: 100%|██████████| 390/390 [00:27<00:00, 14.38batch/s, accuracy=3.2e+3, loss=0] \n"
          ]
        },
        {
          "name": "stdout",
          "output_type": "stream",
          "text": [
            "===> Epoch 3 Complete: Avg. Loss: 0.0000, Validation Accuracy: 3199.74%\n"
          ]
        },
        {
          "name": "stderr",
          "output_type": "stream",
          "text": [
            "Epoch 4: 100%|██████████| 390/390 [00:27<00:00, 14.36batch/s, accuracy=3.2e+3, loss=0] \n"
          ]
        },
        {
          "name": "stdout",
          "output_type": "stream",
          "text": [
            "===> Epoch 4 Complete: Avg. Loss: 0.0000, Validation Accuracy: 3198.97%\n",
            "Validation accuracy did not improve for 2 epochs, stopping training...\n"
          ]
        },
        {
          "name": "stderr",
          "output_type": "stream",
          "text": [
            "Epoch 5: 100%|██████████| 390/390 [00:27<00:00, 14.22batch/s, accuracy=3.2e+3, loss=0] \n"
          ]
        },
        {
          "name": "stdout",
          "output_type": "stream",
          "text": [
            "===> Epoch 5 Complete: Avg. Loss: 0.0000, Validation Accuracy: 3200.51%\n"
          ]
        },
        {
          "name": "stderr",
          "output_type": "stream",
          "text": [
            "Epoch 6: 100%|██████████| 390/390 [00:27<00:00, 13.97batch/s, accuracy=3.2e+3, loss=0] \n"
          ]
        },
        {
          "name": "stdout",
          "output_type": "stream",
          "text": [
            "===> Epoch 6 Complete: Avg. Loss: 0.0000, Validation Accuracy: 3200.26%\n"
          ]
        },
        {
          "name": "stderr",
          "output_type": "stream",
          "text": [
            "Epoch 7: 100%|██████████| 390/390 [00:27<00:00, 14.08batch/s, accuracy=3.2e+3, loss=0] \n"
          ]
        },
        {
          "name": "stdout",
          "output_type": "stream",
          "text": [
            "===> Epoch 7 Complete: Avg. Loss: 0.0000, Validation Accuracy: 3201.79%\n",
            "Validation accuracy improved, saving model...\n",
            "\n"
          ]
        },
        {
          "name": "stderr",
          "output_type": "stream",
          "text": [
            "Epoch 8: 100%|██████████| 390/390 [00:27<00:00, 14.06batch/s, accuracy=3.2e+3, loss=0] \n"
          ]
        },
        {
          "name": "stdout",
          "output_type": "stream",
          "text": [
            "===> Epoch 8 Complete: Avg. Loss: 0.0000, Validation Accuracy: 3199.74%\n"
          ]
        },
        {
          "name": "stderr",
          "output_type": "stream",
          "text": [
            "Epoch 9: 100%|██████████| 390/390 [00:27<00:00, 14.05batch/s, accuracy=3.2e+3, loss=0] \n"
          ]
        },
        {
          "name": "stdout",
          "output_type": "stream",
          "text": [
            "===> Epoch 9 Complete: Avg. Loss: 0.0000, Validation Accuracy: 3199.23%\n",
            "Validation accuracy did not improve for 2 epochs, stopping training...\n"
          ]
        },
        {
          "name": "stderr",
          "output_type": "stream",
          "text": [
            "Epoch 10: 100%|██████████| 390/390 [00:27<00:00, 14.04batch/s, accuracy=3.2e+3, loss=0] \n"
          ]
        },
        {
          "name": "stdout",
          "output_type": "stream",
          "text": [
            "===> Epoch 10 Complete: Avg. Loss: 0.0000, Validation Accuracy: 3200.77%\n"
          ]
        },
        {
          "name": "stderr",
          "output_type": "stream",
          "text": [
            "Epoch 11: 100%|██████████| 390/390 [00:27<00:00, 13.99batch/s, accuracy=3.2e+3, loss=0] \n"
          ]
        },
        {
          "name": "stdout",
          "output_type": "stream",
          "text": [
            "===> Epoch 11 Complete: Avg. Loss: 0.0000, Validation Accuracy: 3199.23%\n"
          ]
        },
        {
          "name": "stderr",
          "output_type": "stream",
          "text": [
            "Epoch 12: 100%|██████████| 390/390 [00:27<00:00, 14.01batch/s, accuracy=3.2e+3, loss=0] \n"
          ]
        },
        {
          "name": "stdout",
          "output_type": "stream",
          "text": [
            "===> Epoch 12 Complete: Avg. Loss: 0.0000, Validation Accuracy: 3199.23%\n"
          ]
        },
        {
          "name": "stderr",
          "output_type": "stream",
          "text": [
            "Epoch 13: 100%|██████████| 390/390 [00:28<00:00, 13.85batch/s, accuracy=3.2e+3, loss=0] \n"
          ]
        },
        {
          "name": "stdout",
          "output_type": "stream",
          "text": [
            "===> Epoch 13 Complete: Avg. Loss: 0.0000, Validation Accuracy: 3200.26%\n"
          ]
        },
        {
          "name": "stderr",
          "output_type": "stream",
          "text": [
            "Epoch 14: 100%|██████████| 390/390 [00:27<00:00, 13.98batch/s, accuracy=3.2e+3, loss=0] \n"
          ]
        },
        {
          "name": "stdout",
          "output_type": "stream",
          "text": [
            "===> Epoch 14 Complete: Avg. Loss: 0.0000, Validation Accuracy: 3198.97%\n"
          ]
        },
        {
          "name": "stderr",
          "output_type": "stream",
          "text": [
            "Epoch 15: 100%|██████████| 390/390 [00:27<00:00, 14.22batch/s, accuracy=3.2e+3, loss=0] \n"
          ]
        },
        {
          "name": "stdout",
          "output_type": "stream",
          "text": [
            "===> Epoch 15 Complete: Avg. Loss: 0.0000, Validation Accuracy: 3200.51%\n",
            "Loading best checkpoint...\n",
            "done.\n"
          ]
        },
        {
          "name": "stderr",
          "output_type": "stream",
          "text": [
            "/var/folders/t6/khg6jj9s4_b0lqrt24p4bvs00000gn/T/ipykernel_3846/2234124709.py:64: FutureWarning: You are using `torch.load` with `weights_only=False` (the current default value), which uses the default pickle module implicitly. It is possible to construct malicious pickle data which will execute arbitrary code during unpickling (See https://github.com/pytorch/pytorch/blob/main/SECURITY.md#untrusted-models for more details). In a future release, the default value for `weights_only` will be flipped to `True`. This limits the functions that could be executed during unpickling. Arbitrary objects will no longer be allowed to be loaded via this mode unless they are explicitly allowlisted by the user via `torch.serialization.add_safe_globals`. We recommend you start setting `weights_only=True` for any use case where you don't have full control of the loaded file. Please open an issue on GitHub for any issues related to this experimental feature.\n",
            "  model.load_state_dict(torch.load('./best_model.pt'))\n"
          ]
        }
      ],
      "source": [
        "model = HAN(input_size, n_units, index_to_word).to(device)\n",
        "#model = model.double()    #I have removed this line because it was causing an error\n",
        "lr = 0.001  # learning rate\n",
        "criterion = torch.nn.CrossEntropyLoss(weight=None, #often used for multi-classes classification problems \n",
        "                                      size_average=None, \n",
        "                                      ignore_index=-100, \n",
        "                                      reduce=None, \n",
        "                                      reduction='mean', \n",
        "                                      label_smoothing=0.0)    # fill the gap, use Binary cross entropy from torch.nn: https://pytorch.org/docs/stable/nn.html#loss-functions\n",
        "optimizer = torch.optim.Adam(model.parameters(), \n",
        "                             lr = lr) #fill me\n",
        "\n",
        "def train(x_train=my_docs_array_train,\n",
        "          y_train=my_labels_array_train,\n",
        "          x_test=my_docs_array_test,\n",
        "          y_test=my_labels_array_test,\n",
        "          word_dict=index_to_word,\n",
        "          batch_size=batch_size):\n",
        "  \n",
        "    train_data = get_loader(x_train, y_train, batch_size)\n",
        "    test_data = get_loader(my_docs_array_test, my_labels_array_test, batch_size)\n",
        "\n",
        "    best_validation_acc = 0.0\n",
        "    p = 0 # patience\n",
        "\n",
        "    for epoch in range(1, nb_epochs + 1): \n",
        "        losses = []\n",
        "        accuracies = []\n",
        "        with tqdm(train_data, unit=\"batch\") as tepoch:\n",
        "            for idx, data in enumerate(tepoch):\n",
        "                tepoch.set_description(f\"Epoch {epoch}\")\n",
        "                model.train()\n",
        "                optimizer.zero_grad()\n",
        "                input = data['document'].to(device)\n",
        "                label = data['label'].to(device)\n",
        "                #label = label.double()     #I have removed this line because it was causing an error\n",
        "                output = model.forward(input)[0]\n",
        "                output = output[:, -1]\n",
        "                loss = criterion(output, label)    # fill the gap # compute the loss\n",
        "                loss.backward()\n",
        "                torch.nn.utils.clip_grad_norm_(model.parameters(), 0.5) # prevent exploding gradient \n",
        "                optimizer.step()\n",
        "\n",
        "                losses.append(loss.item())\n",
        "                accuracy = torch.sum(torch.round(output) == label).item() / batch_size\n",
        "                accuracies.append(accuracy)\n",
        "                tepoch.set_postfix(loss=sum(losses)/len(losses), accuracy=100. * sum(accuracies)/len(accuracies))\n",
        "\n",
        "        # train_acc = evaluate_accuracy(train_data, False)\n",
        "        test_acc = evaluate_accuracy(test_data, False)\n",
        "        print(\"===> Epoch {} Complete: Avg. Loss: {:.4f}, Validation Accuracy: {:3.2f}%\"\n",
        "              .format(epoch, sum(losses)/len(losses), 100.*test_acc))\n",
        "        if test_acc >= best_validation_acc:\n",
        "            best_validation_acc = test_acc\n",
        "            print(\"Validation accuracy improved, saving model...\")\n",
        "            torch.save(model.state_dict(), './best_model.pt')\n",
        "            p = 0\n",
        "            print()\n",
        "        else:\n",
        "            p += 1\n",
        "            if p==my_patience:\n",
        "                print(\"Validation accuracy did not improve for {} epochs, stopping training...\".format(my_patience))\n",
        "    print(\"Loading best checkpoint...\")    \n",
        "    model.load_state_dict(torch.load('./best_model.pt'))\n",
        "    model.eval()\n",
        "    print('done.')\n",
        "\n",
        "train()"
      ]
    },
    {
      "cell_type": "markdown",
      "metadata": {
        "id": "Dvyr8B5QHlst"
      },
      "source": [
        "### = = = = = Extraction of Attention Coefficients = = = = =\n",
        "In this section, we will extract and display the attention coefficients on two levels: sentence level and word level. To do so, we will extract the corresponding weights from our model.\n",
        "#### <b>Task 3:</b>"
      ]
    },
    {
      "cell_type": "code",
      "execution_count": 30,
      "metadata": {
        "id": "UVr8cS4MHlst"
      },
      "outputs": [],
      "source": [
        "# select last review:\n",
        "my_review = my_docs_array_test[-1:,:,:]\n",
        " \n",
        "# convert integer review to text:\n",
        "index_to_word[1] = 'OOV'\n",
        "my_review_text = [[index_to_word[idx] for idx in sent if idx in index_to_word] for sent in my_review.tolist()[0]]    #list of list"
      ]
    },
    {
      "cell_type": "markdown",
      "metadata": {
        "id": "wHDJ7JiqHlsu"
      },
      "source": [
        "###   &emsp;&emsp;  = = = = = Attention Over Sentences in the Document = = = = ="
      ]
    },
    {
      "cell_type": "code",
      "execution_count": 68,
      "metadata": {},
      "outputs": [],
      "source": [
        "def convert_to_tensor(review):\n",
        "    \"\"\" \n",
        "    Convert a review to a tensor\n",
        "    \"\"\"\n",
        "    all_words = [word for sentence in review for word in sentence]\n",
        "    unique_words = np.unique(all_words)\n",
        "    word_to_index = {element : indice for indice, element in enumerate(unique_words)}\n",
        "    indexed_sentences = [[word_to_index[word] for word in sentence] for sentence in review]\n",
        "    max_length = max(len(sentence) for sentence in indexed_sentences)\n",
        "    padded_sentences = [sentence + [0] * (max_length - len(sentence)) for sentence in indexed_sentences]\n",
        "    review_tensor = torch.tensor(padded_sentences, dtype=torch.long)\n",
        "    return review_tensor"
      ]
    },
    {
      "cell_type": "code",
      "execution_count": 108,
      "metadata": {
        "colab": {
          "base_uri": "https://localhost:8080/"
        },
        "id": "yooWg3kkHlsu",
        "outputId": "2421291a-c557-46a9-8f75-74c998053f74"
      },
      "outputs": [
        {
          "name": "stdout",
          "output_type": "stream",
          "text": [
            "100.0 There 's a sign on The Lost Highway that says : OOV SPOILERS OOV ( but you already knew that , did n't you ? )\n"
          ]
        }
      ],
      "source": [
        "review_tensor = convert_to_tensor(my_review_text).to(device)\n",
        "preds, word_coeffs,sent_coeffs = model(review_tensor)# fill the gap # get sentence attention coeffs by passing the review to the model - (you need to convert the inout torch tensor)\n",
        "sent_coeffs = sent_coeffs[0,:,:]\n",
        "\n",
        "for elt in zip(sent_coeffs[:,0].tolist(),[' '.join(elt) for elt in my_review_text]):\n",
        "    print(round(elt[0]*100,2),elt[1])"
      ]
    },
    {
      "cell_type": "markdown",
      "metadata": {
        "id": "rII-DNrKHlsu"
      },
      "source": [
        "### &emsp;&emsp; = = = = = Attention Over Words in Each Sentence = = = = ="
      ]
    },
    {
      "cell_type": "code",
      "execution_count": 73,
      "metadata": {
        "colab": {
          "base_uri": "https://localhost:8080/"
        },
        "id": "JyFjAga6Hlsu",
        "outputId": "d9640e73-a3a1-4745-b215-d55470036a3c"
      },
      "outputs": [
        {
          "name": "stdout",
          "output_type": "stream",
          "text": [
            "('There', 0.03328154236078262)\n",
            "(\"'s\", 0.0333699956536293)\n",
            "('a', 0.031412579119205475)\n",
            "('sign', 0.03244566544890404)\n",
            "('on', 0.03262363746762276)\n",
            "('The', 0.03413810953497887)\n",
            "('Lost', 0.0310550257563591)\n",
            "('Highway', 0.027628034353256226)\n",
            "('that', 0.032391179352998734)\n",
            "('says', 0.03208443522453308)\n",
            "(':', 0.03371325880289078)\n",
            "('OOV', 0.032864101231098175)\n",
            "('SPOILERS', 0.03439488261938095)\n",
            "('OOV', 0.032609280198812485)\n",
            "('(', 0.03145695850253105)\n",
            "('but', 0.03449395298957825)\n",
            "('you', 0.033434413373470306)\n",
            "('already', 0.03440007194876671)\n",
            "('knew', 0.03755567967891693)\n",
            "('that', 0.03462287783622742)\n",
            "(',', 0.03398417681455612)\n",
            "('did', 0.033457618206739426)\n",
            "(\"n't\", 0.031061196699738503)\n",
            "('you', 0.033078633248806)\n",
            "('?', 0.034328561276197433)\n",
            "(')', 0.03871575742959976)\n",
            "= = = =\n",
            "('Since', 0.03302547335624695)\n",
            "('there', 0.032407186925411224)\n",
            "(\"'s\", 0.0318182110786438)\n",
            "('a', 0.02996838092803955)\n",
            "('great', 0.03069513477385044)\n",
            "('deal', 0.034154802560806274)\n",
            "('of', 0.03262675553560257)\n",
            "('people', 0.032101571559906006)\n",
            "('that', 0.03292544558644295)\n",
            "('apparently', 0.03374908119440079)\n",
            "('did', 0.035708751529455185)\n",
            "('not', 0.03762490674853325)\n",
            "('get', 0.03850315883755684)\n",
            "('the', 0.03677520528435707)\n",
            "('point', 0.03442980721592903)\n",
            "('of', 0.03492303565144539)\n",
            "('this', 0.031077811494469643)\n",
            "('movie', 0.03248457610607147)\n",
            "(',', 0.03226258605718613)\n",
            "('I', 0.030487610027194023)\n",
            "(\"'d\", 0.030328067019581795)\n",
            "('like', 0.03155135735869408)\n",
            "('to', 0.030520688742399216)\n",
            "('contribute', 0.029470695182681084)\n",
            "('my', 0.034092023968696594)\n",
            "('interpretation', 0.03745589405298233)\n",
            "('of', 0.03427290543913841)\n",
            "('why', 0.0336691290140152)\n",
            "('the', 0.03579133003950119)\n",
            "('plot', 0.035098426043987274)\n",
            "= = = =\n",
            "('As', 0.03128800168633461)\n",
            "('others', 0.03061799332499504)\n",
            "('have', 0.03493322432041168)\n",
            "('pointed', 0.03722050040960312)\n",
            "('out', 0.03527166321873665)\n",
            "(',', 0.034427460283041)\n",
            "('one', 0.03797880560159683)\n",
            "('single', 0.033043958246707916)\n",
            "('viewing', 0.036142367869615555)\n",
            "('of', 0.03294754773378372)\n",
            "('this', 0.029836902394890785)\n",
            "('movie', 0.032443542033433914)\n",
            "('is', 0.03410245105624199)\n",
            "('not', 0.03696523606777191)\n",
            "('sufficient', 0.03333483636379242)\n",
            "('.', 0.03254655748605728)\n",
            "= = = =\n",
            "('If', 0.03141407296061516)\n",
            "('you', 0.0340745784342289)\n",
            "('have', 0.03551186993718147)\n",
            "('the', 0.03729679062962532)\n",
            "('DVD', 0.03433481603860855)\n",
            "('of', 0.03439571335911751)\n",
            "('MD', 0.03193951025605202)\n",
            "(',', 0.031167740002274513)\n",
            "('you', 0.033018454909324646)\n",
            "('can', 0.03390618413686752)\n",
            "('OOV', 0.03389271721243858)\n",
            "(\"'\", 0.0339304655790329)\n",
            "('by', 0.037795308977365494)\n",
            "('looking', 0.03247794881463051)\n",
            "('at', 0.03639926016330719)\n",
            "('David', 0.035719819366931915)\n",
            "('Lynch', 0.03352368623018265)\n",
            "(\"'s\", 0.033917445689439774)\n",
            "(\"'Top\", 0.030905364081263542)\n",
            "('10', 0.0320635586977005)\n",
            "('OOV', 0.032231517136096954)\n",
            "('to', 0.03132383152842522)\n",
            "('OOV', 0.03347159922122955)\n",
            "('MD', 0.031719401478767395)\n",
            "(\"'\", 0.03083132952451706)\n",
            "('(', 0.03081524185836315)\n",
            "('but', 0.03493312746286392)\n",
            "('only', 0.033602889627218246)\n",
            "('upon', 0.030338339507579803)\n",
            "('second', 0.03304743021726608)\n",
            "= = = =\n",
            "(';', 0.0330420583486557)\n",
            "(')', 0.03746476769447327)\n",
            "('First', 0.032882630825042725)\n",
            "('of', 0.03328603878617287)\n",
            "('all', 0.03345033898949623)\n",
            "(',', 0.033038429915905)\n",
            "('Mulholland', 0.03401168808341026)\n",
            "('Drive', 0.03478190675377846)\n",
            "('is', 0.03357034921646118)\n",
            "('downright', 0.03361755236983299)\n",
            "('brilliant', 0.03246937319636345)\n",
            "('.', 0.033457860350608826)\n",
            "= = = =\n",
            "('A', 0.03450243920087814)\n",
            "('masterpiece', 0.03745193034410477)\n",
            "('.', 0.03373100236058235)\n",
            "= = = =\n",
            "('This', 0.03782075643539429)\n",
            "('is', 0.03542785719037056)\n",
            "('the', 0.037267059087753296)\n",
            "('kind', 0.03500010818243027)\n",
            "('of', 0.034369636327028275)\n",
            "('movie', 0.03462187573313713)\n",
            "('that', 0.034482698887586594)\n",
            "('refuse', 0.03248430788516998)\n",
            "('to', 0.0309250857681036)\n",
            "('leave', 0.029847526922822)\n",
            "('your', 0.02823062054812908)\n",
            "('head', 0.03072412684559822)\n",
            "('.', 0.032111283391714096)\n",
            "= = = =\n",
            "(')', 0.03871575742959976)\n",
            "('knew', 0.03755567967891693)\n",
            "('that', 0.03462287783622742)\n",
            "('but', 0.03449395298957825)\n",
            "('already', 0.03440007194876671)\n",
            "('SPOILERS', 0.03439488261938095)\n",
            "('?', 0.034328561276197433)\n",
            "('The', 0.03413810953497887)\n",
            "(',', 0.03398417681455612)\n",
            "(':', 0.03371325880289078)\n",
            "('did', 0.033457618206739426)\n",
            "('you', 0.033434413373470306)\n",
            "(\"'s\", 0.0333699956536293)\n",
            "('There', 0.03328154236078262)\n",
            "('you', 0.033078633248806)\n",
            "('OOV', 0.032864101231098175)\n",
            "('on', 0.03262363746762276)\n",
            "('OOV', 0.032609280198812485)\n",
            "('sign', 0.03244566544890404)\n",
            "('that', 0.032391179352998734)\n",
            "('says', 0.03208443522453308)\n",
            "('(', 0.03145695850253105)\n",
            "('a', 0.031412579119205475)\n",
            "(\"n't\", 0.031061196699738503)\n",
            "('Lost', 0.0310550257563591)\n",
            "('Highway', 0.027628034353256226)\n",
            "= = = =\n",
            "('get', 0.03850315883755684)\n",
            "('not', 0.03762490674853325)\n",
            "('interpretation', 0.03745589405298233)\n",
            "('the', 0.03677520528435707)\n",
            "('the', 0.03579133003950119)\n",
            "('did', 0.035708751529455185)\n",
            "('plot', 0.035098426043987274)\n",
            "('of', 0.03492303565144539)\n",
            "('point', 0.03442980721592903)\n",
            "('of', 0.03427290543913841)\n",
            "('deal', 0.034154802560806274)\n",
            "('my', 0.034092023968696594)\n",
            "('apparently', 0.03374908119440079)\n",
            "('why', 0.0336691290140152)\n",
            "('Since', 0.03302547335624695)\n",
            "('that', 0.03292544558644295)\n",
            "('of', 0.03262675553560257)\n",
            "('movie', 0.03248457610607147)\n",
            "('there', 0.032407186925411224)\n",
            "(',', 0.03226258605718613)\n",
            "('people', 0.032101571559906006)\n",
            "(\"'s\", 0.0318182110786438)\n",
            "('like', 0.03155135735869408)\n",
            "('this', 0.031077811494469643)\n",
            "('great', 0.03069513477385044)\n",
            "('to', 0.030520688742399216)\n",
            "('I', 0.030487610027194023)\n",
            "(\"'d\", 0.030328067019581795)\n",
            "('a', 0.02996838092803955)\n",
            "('contribute', 0.029470695182681084)\n",
            "= = = =\n",
            "('one', 0.03797880560159683)\n",
            "('pointed', 0.03722050040960312)\n",
            "('not', 0.03696523606777191)\n",
            "('viewing', 0.036142367869615555)\n",
            "('out', 0.03527166321873665)\n",
            "('have', 0.03493322432041168)\n",
            "(',', 0.034427460283041)\n",
            "('is', 0.03410245105624199)\n",
            "('sufficient', 0.03333483636379242)\n",
            "('single', 0.033043958246707916)\n",
            "('of', 0.03294754773378372)\n",
            "('.', 0.03254655748605728)\n",
            "('movie', 0.032443542033433914)\n",
            "('As', 0.03128800168633461)\n",
            "('others', 0.03061799332499504)\n",
            "('this', 0.029836902394890785)\n",
            "= = = =\n",
            "('by', 0.037795308977365494)\n",
            "('the', 0.03729679062962532)\n",
            "('at', 0.03639926016330719)\n",
            "('David', 0.035719819366931915)\n",
            "('have', 0.03551186993718147)\n",
            "('but', 0.03493312746286392)\n",
            "('of', 0.03439571335911751)\n",
            "('DVD', 0.03433481603860855)\n",
            "('you', 0.0340745784342289)\n",
            "(\"'\", 0.0339304655790329)\n",
            "(\"'s\", 0.033917445689439774)\n",
            "('can', 0.03390618413686752)\n",
            "('OOV', 0.03389271721243858)\n",
            "('only', 0.033602889627218246)\n",
            "('Lynch', 0.03352368623018265)\n",
            "('OOV', 0.03347159922122955)\n",
            "('second', 0.03304743021726608)\n",
            "('you', 0.033018454909324646)\n",
            "('looking', 0.03247794881463051)\n",
            "('OOV', 0.032231517136096954)\n",
            "('10', 0.0320635586977005)\n",
            "('MD', 0.03193951025605202)\n",
            "('MD', 0.031719401478767395)\n",
            "('If', 0.03141407296061516)\n",
            "('to', 0.03132383152842522)\n",
            "(',', 0.031167740002274513)\n",
            "(\"'Top\", 0.030905364081263542)\n",
            "(\"'\", 0.03083132952451706)\n",
            "('(', 0.03081524185836315)\n",
            "('upon', 0.030338339507579803)\n",
            "= = = =\n",
            "(')', 0.03746476769447327)\n",
            "('Drive', 0.03478190675377846)\n",
            "('Mulholland', 0.03401168808341026)\n",
            "('downright', 0.03361755236983299)\n",
            "('is', 0.03357034921646118)\n",
            "('.', 0.033457860350608826)\n",
            "('all', 0.03345033898949623)\n",
            "('of', 0.03328603878617287)\n",
            "(';', 0.0330420583486557)\n",
            "(',', 0.033038429915905)\n",
            "('First', 0.032882630825042725)\n",
            "('brilliant', 0.03246937319636345)\n",
            "= = = =\n",
            "('masterpiece', 0.03745193034410477)\n",
            "('A', 0.03450243920087814)\n",
            "('.', 0.03373100236058235)\n",
            "= = = =\n",
            "('This', 0.03782075643539429)\n",
            "('the', 0.037267059087753296)\n",
            "('is', 0.03542785719037056)\n",
            "('kind', 0.03500010818243027)\n",
            "('movie', 0.03462187573313713)\n",
            "('that', 0.034482698887586594)\n",
            "('of', 0.034369636327028275)\n",
            "('refuse', 0.03248430788516998)\n",
            "('.', 0.032111283391714096)\n",
            "('to', 0.0309250857681036)\n",
            "('head', 0.03072412684559822)\n",
            "('leave', 0.029847526922822)\n",
            "('your', 0.02823062054812908)\n",
            "= = = =\n"
          ]
        }
      ],
      "source": [
        "#Look at the previous cell # fill the gap # get words attention coeffs by passing the review to the model - (you need to convert the inout torch tensor)\n",
        "\n",
        "word_coeffs_list = word_coeffs.reshape(7,30).tolist()\n",
        "\n",
        "# match text and coefficients:\n",
        "text_word_coeffs = [list(zip(words,word_coeffs_list[idx][:len(words)])) for idx,words in enumerate(my_review_text)]\n",
        "\n",
        "for sent in text_word_coeffs:\n",
        "    [print(elt) for elt in sent]\n",
        "    print('= = = =')\n",
        "\n",
        "# sort words by importance within each sentence:\n",
        "text_word_coeffs_sorted = [sorted(elt,key=operator.itemgetter(1),reverse=True) for elt in text_word_coeffs]\n",
        "\n",
        "for sent in text_word_coeffs_sorted:\n",
        "    [print(elt) for elt in sent]\n",
        "    print('= = = =')"
      ]
    },
    {
      "cell_type": "code",
      "execution_count": 74,
      "metadata": {},
      "outputs": [
        {
          "name": "stdout",
          "output_type": "stream",
          "text": [
            "Sentence 1:\n",
            "): 3.87%\n",
            "knew: 3.76%\n",
            "that: 3.46%\n",
            "but: 3.45%\n",
            "already: 3.44%\n",
            "SPOILERS: 3.44%\n",
            "?: 3.43%\n",
            "The: 3.41%\n",
            ",: 3.4%\n",
            ":: 3.37%\n",
            "did: 3.35%\n",
            "you: 3.34%\n",
            "'s: 3.34%\n",
            "There: 3.33%\n",
            "you: 3.31%\n",
            "OOV: 3.29%\n",
            "on: 3.26%\n",
            "OOV: 3.26%\n",
            "sign: 3.24%\n",
            "that: 3.24%\n",
            "says: 3.21%\n",
            "(: 3.15%\n",
            "a: 3.14%\n",
            "n't: 3.11%\n",
            "Lost: 3.11%\n",
            "Highway: 2.76%\n",
            "======================\n",
            "Sentence 2:\n",
            "get: 3.85%\n",
            "not: 3.76%\n",
            "interpretation: 3.75%\n",
            "the: 3.68%\n",
            "the: 3.58%\n",
            "did: 3.57%\n",
            "plot: 3.51%\n",
            "of: 3.49%\n",
            "point: 3.44%\n",
            "of: 3.43%\n",
            "deal: 3.42%\n",
            "my: 3.41%\n",
            "apparently: 3.37%\n",
            "why: 3.37%\n",
            "Since: 3.3%\n",
            "that: 3.29%\n",
            "of: 3.26%\n",
            "movie: 3.25%\n",
            "there: 3.24%\n",
            ",: 3.23%\n",
            "people: 3.21%\n",
            "'s: 3.18%\n",
            "like: 3.16%\n",
            "this: 3.11%\n",
            "great: 3.07%\n",
            "to: 3.05%\n",
            "I: 3.05%\n",
            "'d: 3.03%\n",
            "a: 3.0%\n",
            "contribute: 2.95%\n",
            "======================\n",
            "Sentence 3:\n",
            "one: 3.8%\n",
            "pointed: 3.72%\n",
            "not: 3.7%\n",
            "viewing: 3.61%\n",
            "out: 3.53%\n",
            "have: 3.49%\n",
            ",: 3.44%\n",
            "is: 3.41%\n",
            "sufficient: 3.33%\n",
            "single: 3.3%\n",
            "of: 3.29%\n",
            ".: 3.25%\n",
            "movie: 3.24%\n",
            "As: 3.13%\n",
            "others: 3.06%\n",
            "this: 2.98%\n",
            "======================\n",
            "Sentence 4:\n",
            "by: 3.78%\n",
            "the: 3.73%\n",
            "at: 3.64%\n",
            "David: 3.57%\n",
            "have: 3.55%\n",
            "but: 3.49%\n",
            "of: 3.44%\n",
            "DVD: 3.43%\n",
            "you: 3.41%\n",
            "': 3.39%\n",
            "'s: 3.39%\n",
            "can: 3.39%\n",
            "OOV: 3.39%\n",
            "only: 3.36%\n",
            "Lynch: 3.35%\n",
            "OOV: 3.35%\n",
            "second: 3.3%\n",
            "you: 3.3%\n",
            "looking: 3.25%\n",
            "OOV: 3.22%\n",
            "10: 3.21%\n",
            "MD: 3.19%\n",
            "MD: 3.17%\n",
            "If: 3.14%\n",
            "to: 3.13%\n",
            ",: 3.12%\n",
            "'Top: 3.09%\n",
            "': 3.08%\n",
            "(: 3.08%\n",
            "upon: 3.03%\n",
            "======================\n",
            "Sentence 5:\n",
            "): 3.75%\n",
            "Drive: 3.48%\n",
            "Mulholland: 3.4%\n",
            "downright: 3.36%\n",
            "is: 3.36%\n",
            ".: 3.35%\n",
            "all: 3.35%\n",
            "of: 3.33%\n",
            ";: 3.3%\n",
            ",: 3.3%\n",
            "First: 3.29%\n",
            "brilliant: 3.25%\n",
            "======================\n",
            "Sentence 6:\n",
            "masterpiece: 3.75%\n",
            "A: 3.45%\n",
            ".: 3.37%\n",
            "======================\n",
            "Sentence 7:\n",
            "This: 3.78%\n",
            "the: 3.73%\n",
            "is: 3.54%\n",
            "kind: 3.5%\n",
            "movie: 3.46%\n",
            "that: 3.45%\n",
            "of: 3.44%\n",
            "refuse: 3.25%\n",
            ".: 3.21%\n",
            "to: 3.09%\n",
            "head: 3.07%\n",
            "leave: 2.98%\n",
            "your: 2.82%\n",
            "======================\n"
          ]
        }
      ],
      "source": [
        "# Print attention coefficients for each sentence\n",
        "for idx, sent in enumerate(text_word_coeffs_sorted):\n",
        "    print(f\"Sentence {idx + 1}:\")\n",
        "    for word, coeff in sent:\n",
        "        print(f\"{word}: {round(coeff * 100, 2)}%\")\n",
        "    print('======================')"
      ]
    },
    {
      "cell_type": "markdown",
      "metadata": {},
      "source": [
        "Example of 1 sentence"
      ]
    },
    {
      "cell_type": "code",
      "execution_count": 96,
      "metadata": {},
      "outputs": [
        {
          "name": "stdout",
          "output_type": "stream",
          "text": [
            "This: 3.78%\n",
            "the: 3.73%\n",
            "is: 3.54%\n",
            "kind: 3.5%\n",
            "movie: 3.46%\n",
            "that: 3.45%\n",
            "of: 3.44%\n",
            "refuse: 3.25%\n",
            ".: 3.21%\n",
            "to: 3.09%\n",
            "head: 3.07%\n",
            "leave: 2.98%\n",
            "your: 2.82%\n"
          ]
        }
      ],
      "source": [
        "for word, coeff in text_word_coeffs_sorted[6]:\n",
        "        print(f\"{word}: {round(coeff * 100, 2)}%\")"
      ]
    },
    {
      "cell_type": "code",
      "execution_count": 95,
      "metadata": {},
      "outputs": [
        {
          "data": {
            "image/png": "[encoded data removed]",
            "text/plain": [
              "<Figure size 1400x600 with 1 Axes>"
            ]
          },
          "metadata": {},
          "output_type": "display_data"
        }
      ],
      "source": [
        "sentence_index = 6 \n",
        "words, coeffs = zip(*text_word_coeffs_sorted[sentence_index])    # Extract words and their coefficients for the chosen sentence\n",
        "\n",
        "plt.figure(figsize=(14, 6))\n",
        "plt.bar(words, coeffs, \n",
        "         color='orange')\n",
        "plt.ylabel('Attention Coefficients')\n",
        "plt.title(f'Attention Coefficients for Sentence {sentence_index + 1} (indice {sentence_index})')\n",
        "plt.grid(axis='x')\n",
        "plt.show()"
      ]
    },
    {
      "cell_type": "markdown",
      "metadata": {},
      "source": []
    }
  ],
  "metadata": {
    "accelerator": "GPU",
    "colab": {
      "collapsed_sections": [],
      "provenance": []
    },
    "kernelspec": {
      "display_name": "Python 3.9.10 64-bit",
      "language": "python",
      "name": "python3"
    },
    "language_info": {
      "codemirror_mode": {
        "name": "ipython",
        "version": 3
      },
      "file_extension": ".py",
      "mimetype": "text/x-python",
      "name": "python",
      "nbconvert_exporter": "python",
      "pygments_lexer": "ipython3",
      "version": "3.12.4"
    },
    "vscode": {
      "interpreter": {
        "hash": "b0fa6594d8f4cbf19f97940f81e996739fb7646882a419484c72d19e05852a7e"
      }
    }
  },
  "nbformat": 4,
  "nbformat_minor": 0
}

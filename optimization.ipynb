{
 "cells": [
  {
   "cell_type": "markdown",
   "metadata": {},
   "source": [
    "# Gradient Descent Methods"
   ]
  },
  {
   "cell_type": "markdown",
   "metadata": {},
   "source": [
    "We want to minimize a smooth function $f : \\mathbb{R} ^d \\to \\mathbb{R}$. In this tour, we restrict our attention to convex function, so that the methods will converge to a global minimizer.\n",
    "\n",
    "The simplest method is the gradient descent, that computes $ x ^{(k+1)} = x ^{(k)} - \\tau _k \\nabla f (x ^{(k)})$ where, $ \\tau _k > 0$ is a step size.\n",
    "\n",
    "In the convex case, if f is of class $\\mathcal{C} ^2 $, in order to ensure convergence, the step size should satisfy the following condition : $0 < \\tau _k < \\frac{2}{\\text{sup} || \\text{H} f(x) ||}$. "
   ]
  },
  {
   "cell_type": "code",
   "execution_count": null,
   "metadata": {},
   "outputs": [],
   "source": [
    "import numpy as np\n",
    "import matplotlib.pyplot as plt\n",
    "from mpl_toolkits.mplot3d import Axes3D"
   ]
  },
  {
   "cell_type": "code",
   "execution_count": null,
   "metadata": {},
   "outputs": [],
   "source": [
    "def f(x1, x2, eta):\n",
    "    \"\"\"Function to be minimized.\n",
    "\n",
    "    Args:\n",
    "        x1: first parameter\n",
    "        x2 :  second parameter\n",
    "        eta : Anisotropy parameter (positive scalar)\n",
    "\n",
    "    \"\"\"\n",
    "    return (x1**2 + eta * x2**2) / 2\n",
    "\n"
   ]
  }
 ],
 "metadata": {
  "kernelspec": {
   "display_name": "Python 3",
   "language": "python",
   "name": "python3"
  },
  "language_info": {
   "name": "python",
   "version": "3.9.6"
  }
 },
 "nbformat": 4,
 "nbformat_minor": 2
}
